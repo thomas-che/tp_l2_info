{
 "cells": [
  {
   "cell_type": "markdown",
   "metadata": {},
   "source": [
    "\n",
    "# EXO 1"
   ]
  },
  {
   "cell_type": "code",
   "execution_count": 8,
   "metadata": {},
   "outputs": [
    {
     "name": "stdout",
     "output_type": "stream",
     "text": [
      "[-1  2  0]\n",
      "[-2  0  3]\n",
      "[-4  6  9]\n",
      "[-7  5  8]\n",
      "\n",
      "A+B\n",
      "[-6  4  3]\n",
      "[-1 12  7]\n",
      "[ 0 11 17]\n",
      "\n",
      "B+A\n",
      "[-6  4  3]\n",
      "[-1 12  7]\n",
      "[ 0 11 17]\n",
      "\n",
      "A-B\n",
      "[  4   0  -3]\n",
      "[ -3 -12  -1]\n",
      "[ -8   1   1]\n",
      "\n",
      "A*B\n",
      "[  7  22   5]\n",
      "[ 22  11  18]\n",
      "[ 62 109  84]\n",
      "\n",
      "B*A\n",
      "[-11   8  33]\n",
      "[-41  26  72]\n",
      "[-46  56  87]\n"
     ]
    }
   ],
   "source": [
    "M=matrix([[-1,2,0],[-2,0,3],[-4,6,9],[-7,5,8]])\n",
    "print M\n",
    "\n",
    "A=matrix([[-1,2,0],[-2,0,3],[-4,6,9]])\n",
    "B=matrix([[-5,2,3],[1,12,4],[4,5,8]])\n",
    "\n",
    "print '\\nA+B\\n',A+B\n",
    "print '\\nB+A\\n',B+A\n",
    "print '\\nA-B\\n',A-B\n",
    "print '\\nA*B\\n',A*B\n",
    "print '\\nB*A\\n',B*A"
   ]
  },
  {
   "cell_type": "code",
   "execution_count": null,
   "metadata": {},
   "outputs": [],
   "source": [
    "\n"
   ]
  },
  {
   "cell_type": "code",
   "execution_count": null,
   "metadata": {},
   "outputs": [],
   "source": []
  }
 ],
 "metadata": {
  "kernelspec": {
   "display_name": "SageMath 8.1",
   "language": "",
   "name": "sagemath"
  },
  "language_info": {
   "codemirror_mode": {
    "name": "ipython",
    "version": 2
   },
   "file_extension": ".py",
   "mimetype": "text/x-python",
   "name": "python",
   "nbconvert_exporter": "python",
   "pygments_lexer": "ipython2",
   "version": "2.7.15+"
  }
 },
 "nbformat": 4,
 "nbformat_minor": 2
}
