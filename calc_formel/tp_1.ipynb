{
 "cells": [
  {
   "cell_type": "code",
   "execution_count": 1,
   "metadata": {},
   "outputs": [
    {
     "data": {
      "text/plain": [
       "5"
      ]
     },
     "execution_count": 1,
     "metadata": {},
     "output_type": "execute_result"
    }
   ],
   "source": [
    "2+3\n"
   ]
  },
  {
   "cell_type": "code",
   "execution_count": 46,
   "metadata": {},
   "outputs": [
    {
     "name": "stdout",
     "output_type": "stream",
     "text": [
      "limite de f(x) = +Infinity\n",
      "autre syntaxe : x |--> -Infinity\n",
      "limite de g(x) = 1/5\n",
      "limite de h(x) = Infinity\n",
      "limite de k(x) = 0\n"
     ]
    }
   ],
   "source": [
    "#exo 1 #Corect\n",
    "\n",
    "f(x)=x**3+4*x+2+(3/x)\n",
    "print\"limite de f(x) =\",lim(f(x),x=+oo)\n",
    "print \"autre syntaxe :\", f.limit(x=-oo)\n",
    "\n",
    "print\"limite de g(x) =\",lim(1/(x+5) +x**2 , x=0)\n",
    "\n",
    "print\"limite de h(x) =\",lim(x**5+1/x,x=0)\n",
    "\n",
    "print\"limite de k(x) =\",lim((x**(1/3)-2)/((x**(1/3)+19-3)),x=8)"
   ]
  },
  {
   "cell_type": "code",
   "execution_count": 19,
   "metadata": {},
   "outputs": [],
   "source": [
    "#help(limit)"
   ]
  },
  {
   "cell_type": "code",
   "execution_count": 1,
   "metadata": {},
   "outputs": [
    {
     "name": "stdout",
     "output_type": "stream",
     "text": [
      "Infinity\n",
      "0\n",
      "1\n"
     ]
    }
   ],
   "source": [
    "#exo 2\n",
    "\n",
    "var ('q','n')\n",
    "forget()\n",
    "assume(abs(q)>1)\n",
    "print lim(q**n,n=+oo)\n",
    "\n",
    "forget()\n",
    "assume(abs(q)<1)\n",
    "assume(q>=0)\n",
    "print lim(q**n,n=+oo)\n",
    "\n",
    "\n",
    "forget()\n",
    "assume(q==1)\n",
    "print lim(q**n,n=+oo)\n",
    "\n",
    "# normalement ca marche"
   ]
  },
  {
   "cell_type": "code",
   "execution_count": null,
   "metadata": {},
   "outputs": [],
   "source": []
  },
  {
   "cell_type": "code",
   "execution_count": 31,
   "metadata": {},
   "outputs": [
    {
     "name": "stdout",
     "output_type": "stream",
     "text": [
      "13943237577224054960759/3099044504245996706400\n",
      "13943237577224054960759/3099044504245996706400 avec prgm\n",
      "1/2*n^2 + 1/2*n\n",
      "1/3*n^3 + 1/2*n^2 + 1/6*n\n",
      "\n",
      "***************\n",
      "\n",
      "1/6*pi^2\n",
      "1/90*pi^4\n",
      "zeta(5)\n",
      "1.03692775514337\n",
      "\n",
      "(a*q^(n + 1) - a)/(q - 1)\n"
     ]
    }
   ],
   "source": [
    "#Exo 3   Correct\n",
    "\n",
    "k, b = var('k,b')\n",
    "print sum((1/k), k, 1, 50)\n",
    "\n",
    "som=0\n",
    "for i in range(1,50+1):\n",
    "    som+=(1/i)\n",
    "print som , \"avec prgm\"\n",
    "\n",
    "k, n = var('k,n')\n",
    "print sum(k, k, 1, n)\n",
    "\n",
    "k, n = var('k,n')\n",
    "print sum(k**2, k, 1, n)\n",
    "\n",
    "print \"\\n***************\\n\"\n",
    "\n",
    "k, n = var('k,n')\n",
    "print sum((1/k**2), k, 1, +oo)\n",
    "\n",
    "k, n = var('k,n')\n",
    "print sum((1/k**4), k, 1, +oo)\n",
    "k, n = var('k,n')\n",
    "print sum((1/k**5), k, 1, +oo)\n",
    "print numerical_approx(sum((1/k**5), k, 1, +oo))\n",
    "\n",
    "k, n , a ,q = var('k,n,a,q')\n",
    "print \"\\n\",sum(a*q**k, k, 0, n)"
   ]
  },
  {
   "cell_type": "code",
   "execution_count": 56,
   "metadata": {},
   "outputs": [
    {
     "name": "stdout",
     "output_type": "stream",
     "text": [
      "x |--> 2*x*cos(x^2)\n",
      "x |--> 3/(3*x + 1)\n"
     ]
    }
   ],
   "source": [
    "#exo 4\n",
    "#help (derivative)\n",
    "\n",
    "reset() #pour pas interferer avec les autre celluels\n",
    "\n",
    "f(x)=sin(x**2)\n",
    "print derivative(f,x)\n",
    "\n",
    "g(x)=log(3*x + 1)\n",
    "print derivative(g,x)"
   ]
  },
  {
   "cell_type": "code",
   "execution_count": 89,
   "metadata": {},
   "outputs": [
    {
     "ename": "TypeError",
     "evalue": "'Graphics' object is not callable",
     "output_type": "error",
     "traceback": [
      "\u001b[0;31m---------------------------------------------------------------------------\u001b[0m",
      "\u001b[0;31mTypeError\u001b[0m                                 Traceback (most recent call last)",
      "\u001b[0;32m/usr/local/install/sage-8.3/local/lib/python2.7/site-packages/sage/all_cmdline.pyc\u001b[0m in \u001b[0;36m<module>\u001b[0;34m()\u001b[0m\n\u001b[1;32m     10\u001b[0m \u001b[0;34m\u001b[0m\u001b[0m\n\u001b[1;32m     11\u001b[0m \u001b[0;31m## FAUX il faux la derive de g(x)\u001b[0m\u001b[0;34m\u001b[0m\u001b[0;34m\u001b[0m\u001b[0m\n\u001b[0;32m---> 12\u001b[0;31m \u001b[0mdevi_g\u001b[0m\u001b[0;34m=\u001b[0m\u001b[0mderivative\u001b[0m\u001b[0;34m(\u001b[0m\u001b[0mg\u001b[0m\u001b[0;34m(\u001b[0m\u001b[0mx\u001b[0m\u001b[0;34m)\u001b[0m\u001b[0;34m,\u001b[0m\u001b[0mx\u001b[0m\u001b[0;34m)\u001b[0m\u001b[0;34m\u001b[0m\u001b[0m\n\u001b[0m\u001b[1;32m     13\u001b[0m \u001b[0;32mprint\u001b[0m \u001b[0mdevi_g\u001b[0m\u001b[0;34m\u001b[0m\u001b[0m\n\u001b[1;32m     14\u001b[0m \u001b[0msigne\u001b[0m\u001b[0;34m=\u001b[0m\u001b[0mplot\u001b[0m\u001b[0;34m(\u001b[0m\u001b[0msign\u001b[0m\u001b[0;34m(\u001b[0m\u001b[0mderivative\u001b[0m\u001b[0;34m(\u001b[0m\u001b[0mg\u001b[0m\u001b[0;34m(\u001b[0m\u001b[0mx\u001b[0m\u001b[0;34m)\u001b[0m\u001b[0;34m,\u001b[0m\u001b[0mx\u001b[0m\u001b[0;34m)\u001b[0m\u001b[0;34m)\u001b[0m\u001b[0;34m,\u001b[0m\u001b[0;34m(\u001b[0m\u001b[0;34m-\u001b[0m\u001b[0mInteger\u001b[0m\u001b[0;34m(\u001b[0m\u001b[0;36m5\u001b[0m\u001b[0;34m)\u001b[0m\u001b[0;34m,\u001b[0m\u001b[0mInteger\u001b[0m\u001b[0;34m(\u001b[0m\u001b[0;36m3\u001b[0m\u001b[0;34m)\u001b[0m\u001b[0;34m)\u001b[0m\u001b[0;34m,\u001b[0m\u001b[0mcolor\u001b[0m\u001b[0;34m=\u001b[0m\u001b[0;34m\"red\"\u001b[0m\u001b[0;34m)\u001b[0m\u001b[0;34m\u001b[0m\u001b[0m\n",
      "\u001b[0;31mTypeError\u001b[0m: 'Graphics' object is not callable"
     ]
    }
   ],
   "source": [
    "#exo 5\n",
    "\n",
    "## PB !!!!\n",
    "\n",
    "\n",
    "g(x)=x*sin(x+x**2+0.2)\n",
    "g=plot(g(x),-5,3,color=\"blue\")\n",
    "#signe=plot(sign(x*sin(x+x**2+0.2)),-5,3,color=\"red\")\n",
    "#g+signe\n",
    "\n",
    "## FAUX il faux la derive de g(x)\n",
    "devi_g=derivative(g(x),x)\n",
    "print devi_g\n",
    "signe=plot(sign(derivative(g(x),x)),(-5,3),color=\"red\")\n",
    "g+signe"
   ]
  },
  {
   "cell_type": "code",
   "execution_count": null,
   "metadata": {},
   "outputs": [],
   "source": []
  },
  {
   "cell_type": "code",
   "execution_count": 13,
   "metadata": {
    "scrolled": true
   },
   "outputs": [
    {
     "data": {
      "image/png": "[encoded data removed]",
      "text/plain": [
       "Graphics object consisting of 3 graphics primitives"
      ]
     },
     "execution_count": 13,
     "metadata": {},
     "output_type": "execute_result"
    }
   ],
   "source": [
    "#exo 6\n",
    "\n",
    "a = var('a')\n",
    "\n",
    "f(x)=cos(x)\n",
    "courbe_f= plot(f(x),-2*pi,2*pi , color=\"blue\")\n",
    "\n",
    "h(x)= derivative(f,x)\n",
    "t(a)=h(a)*(x-a)+f(a)\n",
    "courbe_h_0 = plot(t(0),-2*pi,2*pi , color=\"red\")\n",
    "courbe_h_3pi = plot(t((3*pi)/4),-2*pi,2*pi , color=\"green\")\n",
    "\n",
    "courbe_f+courbe_h_0+courbe_h_3pi"
   ]
  },
  {
   "cell_type": "code",
   "execution_count": 18,
   "metadata": {},
   "outputs": [],
   "source": [
    "integral?\n"
   ]
  },
  {
   "cell_type": "code",
   "execution_count": 26,
   "metadata": {},
   "outputs": [
    {
     "name": "stdout",
     "output_type": "stream",
     "text": [
      "arctan(x)\n",
      "1\n",
      "pi\n"
     ]
    }
   ],
   "source": [
    "#exo 7\n",
    "\n",
    "print integral(1/(1+x**2),x)\n",
    "\n",
    "print integral(sin(x),x,0,pi/2)\n",
    "\n",
    "print integral(1/(1+x**2),x,-oo,oo)\n",
    "\n",
    "#print integral(exp(-x),x,-oo,oo)"
   ]
  },
  {
   "cell_type": "code",
   "execution_count": 30,
   "metadata": {},
   "outputs": [
    {
     "data": {
      "text/plain": [
       "1/2*pi*e^(-x)"
      ]
     },
     "execution_count": 30,
     "metadata": {},
     "output_type": "execute_result"
    }
   ],
   "source": [
    "#exo 8\n",
    "u=var('u')\n",
    "phy(x)= (x*cos(u))/(u**2 + x**2)\n",
    "assume(x>0)\n",
    "integral(phy(x),u,0,+oo)"
   ]
  },
  {
   "cell_type": "code",
   "execution_count": 51,
   "metadata": {},
   "outputs": [
    {
     "name": "stdout",
     "output_type": "stream",
     "text": [
      "2 \n",
      "\n",
      "l air du rect num  1 est :  1/40*pi*(sqrt(5) - 1)\n",
      "l air du rect num  2 est :  1/40*pi*sqrt(-2*sqrt(5) + 10)\n",
      "l air du rect num  3 est :  1/40*pi*(sqrt(5) + 1)\n",
      "l air du rect num  4 est :  1/40*pi*sqrt(2*sqrt(5) + 10)\n",
      "l air du rect num  5 est :  1/10*pi\n",
      "l air du rect num  6 est :  1/40*pi*sqrt(2*sqrt(5) + 10)\n",
      "l air du rect num  7 est :  1/40*pi*(sqrt(5) + 1)\n",
      "l air du rect num  8 est :  1/40*pi*sqrt(-2*sqrt(5) + 10)\n",
      "l air du rect num  9 est :  1/40*pi*(sqrt(5) - 1)\n",
      "l air du rect num  10 est :  0\n",
      "\n",
      " somme aprox pour 10 rect =  1.98352353750945\n",
      "\n",
      " somme aprox pour 100 rectangle =  1.99983550388744\n"
     ]
    }
   ],
   "source": [
    "#exo 9\n",
    "\n",
    "f(x)=sin(x)\n",
    "I=integral(sin(x),x,0,pi)\n",
    "print I,\"\\n\"\n",
    "\n",
    "somme=0\n",
    "for i in range (1,11):\n",
    "    air_carre=0\n",
    "    x=pi*(1/10)\n",
    "    y=sin(pi*(i/10))\n",
    "    air_carre=x*y\n",
    "    print \"l air du rect num \",i,\"est : \",air_carre \n",
    "    somme+=air_carre\n",
    "    \n",
    "print \"\\n somme aprox pour 10 rect = \",numerical_approx(somme)\n",
    "\n",
    "somme=0\n",
    "for i in range (1,101):\n",
    "    air_carre=0\n",
    "    x=pi*(1/100)\n",
    "    y=sin(pi*(i/100))\n",
    "    #print \"i = \",i,\" x= \",x,\" y= \",y\n",
    "    air_carre=x*y\n",
    "    somme+=air_carre\n",
    "    \n",
    "print \"\\n somme aprox pour 100 rectangle = \",numerical_approx(somme)\n"
   ]
  },
  {
   "cell_type": "code",
   "execution_count": 78,
   "metadata": {},
   "outputs": [
    {
     "name": "stdout",
     "output_type": "stream",
     "text": [
      "1)  5100\n",
      "\n",
      "2)  3/2*sin(2*x)\n",
      "\n",
      "3)  1/2/sqrt(x + 8) + 1/x\n",
      "\n",
      "4)  -5/(q - 5)\n"
     ]
    }
   ],
   "source": [
    "#exo 1\n",
    "\n",
    "somme_multiple_4=0\n",
    "for i in range(1,201+1):\n",
    "    if i%4 == 0:\n",
    "        somme_multiple_4+=i\n",
    "print \"1) \",somme_multiple_4\n",
    "\n",
    "f(x)=3*cos(2*x)\n",
    "print \"\\n2) \",integral(f(x),x)\n",
    "\n",
    "g(x)=log(5*x)+sqrt(x+8)\n",
    "print \"\\n3) \",derivative(g(x),x)\n",
    "\n",
    "a,k,q = var ('a','k','q')\n",
    "a=sum((q/5)**k,k,0,oo)\n",
    "print \"\\n4) \",a"
   ]
  },
  {
   "cell_type": "code",
   "execution_count": 79,
   "metadata": {},
   "outputs": [],
   "source": [
    "#exo 2\n",
    "\n",
    "var('r','b','k')\n",
    "\n",
    "b=( factorial(4k)*(1103+26390*k) )/( (factorial(k))**4 )\n",
    "\n",
    "r=((2*sqrt(2))/9801)*sum(b,k,0,12)\n"
   ]
  },
  {
   "cell_type": "code",
   "execution_count": null,
   "metadata": {},
   "outputs": [],
   "source": []
  },
  {
   "cell_type": "code",
   "execution_count": null,
   "metadata": {},
   "outputs": [],
   "source": []
  },
  {
   "cell_type": "code",
   "execution_count": null,
   "metadata": {},
   "outputs": [],
   "source": []
  },
  {
   "cell_type": "code",
   "execution_count": null,
   "metadata": {},
   "outputs": [],
   "source": []
  }
 ],
 "metadata": {
  "kernelspec": {
   "display_name": "SageMath 8.3",
   "language": "",
   "name": "sagemath"
  },
  "language_info": {
   "codemirror_mode": {
    "name": "ipython",
    "version": 2
   },
   "file_extension": ".py",
   "mimetype": "text/x-python",
   "name": "python",
   "nbconvert_exporter": "python",
   "pygments_lexer": "ipython2",
   "version": "2.7.15"
  }
 },
 "nbformat": 4,
 "nbformat_minor": 2
}
