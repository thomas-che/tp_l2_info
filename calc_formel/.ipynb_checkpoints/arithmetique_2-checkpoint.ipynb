{
 "cells": [
  {
   "cell_type": "markdown",
   "metadata": {},
   "source": [
    "# EXO 1"
   ]
  },
  {
   "cell_type": "code",
   "execution_count": 35,
   "metadata": {},
   "outputs": [
    {
     "name": "stdout",
     "output_type": "stream",
     "text": [
      "x |--> 2\n",
      "      (x - 1)^2\n",
      "x |--> x^2 - 2*x + 1\n"
     ]
    }
   ],
   "source": [
    "p(x)=x*(x-2)+1\n",
    "print p.degree(x)\n",
    "print '     ',factor (p)\n",
    "print expand(p)"
   ]
  },
  {
   "cell_type": "markdown",
   "metadata": {},
   "source": [
    "# EXO 2"
   ]
  },
  {
   "cell_type": "code",
   "execution_count": 51,
   "metadata": {},
   "outputs": [
    {
     "name": "stdout",
     "output_type": "stream",
     "text": [
      "x |--> 8  p: x |--> 4  q: x |--> 4\n",
      "x |--> 4    x |--> 4\n",
      "coef:  x |--> 4\n",
      "[(-sqrt(1/2*sqrt(13) + 3/2), 1), (sqrt(1/2*sqrt(13) + 3/2), 1), (-sqrt(-1/2*sqrt(13) + 3/2), 1), (sqrt(-1/2*sqrt(13) + 3/2), 1)] \n",
      "[(-1, 4)]\n",
      "-1.81735402102397\n"
     ]
    },
    {
     "data": {
      "text/plain": [
       "[(-1, 4)]"
      ]
     },
     "execution_count": 51,
     "metadata": {},
     "output_type": "execute_result"
    }
   ],
   "source": [
    "p(x) = x^4 - 3*x^2 -1\n",
    "q(x) = (x+1)^4\n",
    "d(x) = p(x) - q(x)\n",
    "factor(d)\n",
    "print (p*q).degree(x),' p:',p.degree(x),' q:',q.degree(x) #reponce oui\n",
    "print d.degree(x),'  ',max( p.degree(x),q.degree(x) ) # non peut etre <=\n",
    "print 'coef: ',expand(q).coefficient(x^3)\n",
    "print p.roots(),'\\n',q.roots()\n",
    "print p.roots()[0][0].n()\n",
    "\n",
    "##\n",
    "p.coefficient(x^2) #avoir le coef de x^2\n",
    "expand(q).coefficient(x^3) #il faux developer l expresion avant\n",
    "p.coefficients(x) # revoie liste des coef [ [-1,0] [... ] ] donc pr x^0 on a -1\n",
    "q.roots() # renvoie [(-1, 4)] => [(racine, multipliciter)] multipliciter => q(x)=(x-x0)^n * (...)\n",
    "p.roots()[0][0].n() # avoir une aproximation numerique"
   ]
  },
  {
   "cell_type": "markdown",
   "metadata": {},
   "source": [
    "# EXO 3"
   ]
  },
  {
   "cell_type": "code",
   "execution_count": 64,
   "metadata": {},
   "outputs": [
    {
     "data": {
      "text/plain": [
       "[]"
      ]
     },
     "execution_count": 64,
     "metadata": {},
     "output_type": "execute_result"
    }
   ],
   "source": [
    "## correction\n",
    "R=PolynomialRing(QQ,'x') # ensemble des polynomes a coefficient dans QQ=q\n",
    "#QQ désigne Q, RR désigne R, ZZ désigne Z, GF(n) désigne Z/nZ\n",
    "x=R.gen() # \n",
    "P2=x^4 -3*x^2 -1\n",
    "P2.roots() # cherche des racine dans Q(les rationel), mais n en trouve pas"
   ]
  },
  {
   "cell_type": "markdown",
   "metadata": {},
   "source": [
    "# EXO 4"
   ]
  },
  {
   "cell_type": "code",
   "execution_count": 87,
   "metadata": {},
   "outputs": [
    {
     "name": "stdout",
     "output_type": "stream",
     "text": [
      "(x - 2) * x\n",
      "(2) * (x - 1/2)\n",
      "x^4 - 3*x^2 - 1  verif:  x^4 - 3*x^2 - 1\n"
     ]
    }
   ],
   "source": [
    "R=PolynomialRing(QQ,'x') \n",
    "x=R.gen()  \n",
    "P2=x^4 -3*x^2 -1\n",
    "    \n",
    "print factor( P2//(x +1)^2 ) # partie entiere\n",
    "print factor( P2%(x +1)^2 ) # reste\n",
    "\n",
    "# a(x)=b(x)*q(x)+r(x)\n",
    "q=P2//(x +1)^2\n",
    "r=P2%(x +1)^2\n",
    "\n",
    "print P2,' verif: ',q*(x+1)^2 +r"
   ]
  },
  {
   "cell_type": "markdown",
   "metadata": {},
   "source": [
    "# EXO 5"
   ]
  },
  {
   "cell_type": "code",
   "execution_count": 91,
   "metadata": {},
   "outputs": [
    {
     "name": "stdout",
     "output_type": "stream",
     "text": [
      "x^2 + x\n",
      "x^2 + 1\n"
     ]
    }
   ],
   "source": [
    "R=PolynomialRing(GF(2),'x') \n",
    "x=R.gen()  \n",
    "P3=x+1\n",
    "\n",
    "print P3 + x^2 +1\n",
    "print P3^2\n",
    "\n",
    "# correction\n",
    "# P3 + x^2 +1 = x^2 + x mod 2\n",
    "# P3^2 = x^2 + 1 mod 2"
   ]
  },
  {
   "cell_type": "code",
   "execution_count": null,
   "metadata": {},
   "outputs": [],
   "source": []
  }
 ],
 "metadata": {
  "kernelspec": {
   "display_name": "SageMath 8.1",
   "language": "",
   "name": "sagemath"
  },
  "language_info": {
   "codemirror_mode": {
    "name": "ipython",
    "version": 2
   },
   "file_extension": ".py",
   "mimetype": "text/x-python",
   "name": "python",
   "nbconvert_exporter": "python",
   "pygments_lexer": "ipython2",
   "version": "2.7.15+"
  }
 },
 "nbformat": 4,
 "nbformat_minor": 2
}
