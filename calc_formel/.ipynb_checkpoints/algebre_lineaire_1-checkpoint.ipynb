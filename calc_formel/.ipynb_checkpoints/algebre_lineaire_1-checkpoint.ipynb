{
 "cells": [
  {
   "cell_type": "markdown",
   "metadata": {},
   "source": [
    "# EXO 1"
   ]
  },
  {
   "cell_type": "code",
   "execution_count": 45,
   "metadata": {},
   "outputs": [
    {
     "name": "stdout",
     "output_type": "stream",
     "text": [
      "(0, 1, 2, 3, 4)\n",
      "(0, 1, 2, 3, 4)\n",
      "(0, 1, 2, 3, 4)\n"
     ]
    },
    {
     "data": {
      "text/plain": [
       "(2, 3, 4, 4)"
      ]
     },
     "execution_count": 45,
     "metadata": {},
     "output_type": "execute_result"
    }
   ],
   "source": [
    "vector([-2,4,8,13])\n",
    "vector([0,1,2,3,4])\n",
    "vector([2,3,4,5,6,7,8,9])\n",
    "\n",
    "v=[]\n",
    "for i in range(0,5):\n",
    "    v.append(i)\n",
    "print vector(v)\n",
    "## corrction\n",
    "print vector(range(5))\n",
    "print vector([0..4])\n",
    "\n",
    "v=[]\n",
    "for i in range(0,8):\n",
    "    v.append(i+2)\n",
    "vector(v)\n",
    "\n",
    "z=var('z')\n",
    "vec=vector([z,z+1,2*z,z**2])\n",
    "\n",
    "## corrction\n",
    "vec.subs(z=2)\n",
    "vec(z=2)"
   ]
  },
  {
   "cell_type": "markdown",
   "metadata": {},
   "source": [
    "# EXO 2"
   ]
  },
  {
   "cell_type": "code",
   "execution_count": 46,
   "metadata": {},
   "outputs": [
    {
     "name": "stdout",
     "output_type": "stream",
     "text": [
      "0 3\n"
     ]
    },
    {
     "data": {
      "text/plain": [
       "4"
      ]
     },
     "execution_count": 46,
     "metadata": {},
     "output_type": "execute_result"
    }
   ],
   "source": [
    "vec=vector([0,1,2,3,4])\n",
    "\n",
    "print vec[0],vec[3]\n",
    "\n",
    "vec[len(vec)-1]\n",
    "\n",
    "## corrction\n",
    "vec[vec.length()-1]\n",
    "vec[-1]"
   ]
  },
  {
   "cell_type": "markdown",
   "metadata": {},
   "source": [
    "# EXO 3"
   ]
  },
  {
   "cell_type": "code",
   "execution_count": 61,
   "metadata": {},
   "outputs": [
    {
     "name": "stdout",
     "output_type": "stream",
     "text": [
      "sqrt(30)\n",
      "sqrt(30)\n",
      "10\n",
      "10\n",
      "4\n",
      "4\n"
     ]
    },
    {
     "data": {
      "text/plain": [
       "sqrt(30)"
      ]
     },
     "execution_count": 61,
     "metadata": {},
     "output_type": "execute_result"
    }
   ],
   "source": [
    "vec=vector([0,1,2,3,4])\n",
    "\n",
    "print vec.norm(2)\n",
    "print sqrt(vec[0]**2+vec[1]**2+vec[2]**2+vec[3]**2+vec[4]**2)\n",
    "\n",
    "print vec.norm(1)\n",
    "print abs(vec[0]) + abs(vec[1]) + abs(vec[2]) + abs(vec[3]) + abs(vec[4])\n",
    "\n",
    "print vec.norm(infinity)\n",
    "print max(abs(vec[0]),abs(vec[1]),abs(vec[2]),abs(vec[3]),abs(vec[4]))\n",
    "\n",
    "norm(vec) # renvoie la vec.norm(2)"
   ]
  },
  {
   "cell_type": "markdown",
   "metadata": {},
   "source": [
    "# EXO 4"
   ]
  },
  {
   "cell_type": "code",
   "execution_count": 72,
   "metadata": {},
   "outputs": [
    {
     "name": "stdout",
     "output_type": "stream",
     "text": [
      "0\n",
      "15\n",
      "60\n",
      "0\n",
      "0\n",
      "4\n",
      "4\n",
      "4\n"
     ]
    }
   ],
   "source": [
    "vec1=vector([0,1,2,3,4])\n",
    "vec2=vector([3,2,-3,0,1])\n",
    "\n",
    "print vec1.dot_product(vec2) # sont orthogonaux\n",
    "\n",
    "vec1=vector([0,1,2,3,4])\n",
    "vec2=vector([3,5,-3,4,1])\n",
    "\n",
    "print vec1.dot_product(vec2)\n",
    "\n",
    "vec1=vector([0,1,2,3,4])\n",
    "vec2=vector([0,2,4,6,8])\n",
    "\n",
    "print vec1.dot_product(vec2)\n",
    "\n",
    "a=vector([1,1])\n",
    "b=vector([1,-1])\n",
    "c=vector([2,2])\n",
    "\n",
    "print a.dot_product(b) # orthogonaux\n",
    "print b.dot_product(c) # ortogonaux\n",
    "\n",
    "## correction\n",
    "print a.dot_product(c) # colineaire c=2a\n",
    "print a*c\n",
    "print norm(a)*norm(c)"
   ]
  },
  {
   "cell_type": "markdown",
   "metadata": {},
   "source": [
    "# EXO 5"
   ]
  },
  {
   "cell_type": "code",
   "execution_count": 73,
   "metadata": {},
   "outputs": [
    {
     "name": "stdout",
     "output_type": "stream",
     "text": [
      "5.25000000000000\n",
      "(10.5000000000000, 0.000000000000000)\n",
      "10.5000000000000\n",
      "2\n",
      "5.25000000000000\n",
      "2.00000000000000\n"
     ]
    }
   ],
   "source": [
    "M=vector([1.5,2.35])\n",
    "B=vector([3.5,0])\n",
    "n=vector([2,0])\n",
    "\n",
    "print B.dot_product(M)\n",
    "print (B*M)*n\n",
    "print abs ((B*M)*n)\n",
    "print n.norm(2)\n",
    "\n",
    "H= abs( (B.dot_product(M))*n ) / n.norm(2)\n",
    "print H\n",
    "\n",
    "## crrection\n",
    "\n",
    "H= abs( (M-B)*n ) / n.norm(2)\n",
    "print H"
   ]
  },
  {
   "cell_type": "code",
   "execution_count": null,
   "metadata": {},
   "outputs": [],
   "source": []
  },
  {
   "cell_type": "code",
   "execution_count": null,
   "metadata": {},
   "outputs": [],
   "source": []
  }
 ],
 "metadata": {
  "kernelspec": {
   "display_name": "SageMath 8.1",
   "language": "",
   "name": "sagemath"
  },
  "language_info": {
   "codemirror_mode": {
    "name": "ipython",
    "version": 2
   },
   "file_extension": ".py",
   "mimetype": "text/x-python",
   "name": "python",
   "nbconvert_exporter": "python",
   "pygments_lexer": "ipython2",
   "version": "2.7.15+"
  }
 },
 "nbformat": 4,
 "nbformat_minor": 2
}
