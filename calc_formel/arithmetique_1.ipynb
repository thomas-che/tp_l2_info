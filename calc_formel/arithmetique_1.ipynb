{
 "cells": [
  {
   "cell_type": "markdown",
   "metadata": {},
   "source": [
    "# EXO 1"
   ]
  },
  {
   "cell_type": "code",
   "execution_count": 8,
   "metadata": {},
   "outputs": [
    {
     "name": "stdout",
     "output_type": "stream",
     "text": [
      "0b11111\n",
      "0x1f\n"
     ]
    }
   ],
   "source": [
    "print bin(int(31))\n",
    "print hex(int(31))"
   ]
  },
  {
   "cell_type": "code",
   "execution_count": 2,
   "metadata": {},
   "outputs": [
    {
     "data": {
      "text/plain": [
       "20"
      ]
     },
     "execution_count": 2,
     "metadata": {},
     "output_type": "execute_result"
    }
   ],
   "source": [
    "Integer('0b10100')"
   ]
  },
  {
   "cell_type": "code",
   "execution_count": 3,
   "metadata": {},
   "outputs": [
    {
     "data": {
      "text/plain": [
       "667215"
      ]
     },
     "execution_count": 3,
     "metadata": {},
     "output_type": "execute_result"
    }
   ],
   "source": [
    "Integer('0xA2E4F')"
   ]
  },
  {
   "cell_type": "code",
   "execution_count": 5,
   "metadata": {},
   "outputs": [
    {
     "data": {
      "text/plain": [
       "'10100'"
      ]
     },
     "execution_count": 5,
     "metadata": {},
     "output_type": "execute_result"
    }
   ],
   "source": [
    "m=20\n",
    "n=2\n",
    "m.str(n)  #ecrit m en base n"
   ]
  },
  {
   "cell_type": "markdown",
   "metadata": {},
   "source": [
    "# EXO 2"
   ]
  },
  {
   "cell_type": "code",
   "execution_count": 53,
   "metadata": {},
   "outputs": [
    {
     "name": "stdout",
     "output_type": "stream",
     "text": [
      "3.14\n",
      "3.14\n",
      "False\n",
      "11.001001000100\n",
      "11.001000111101\n"
     ]
    }
   ],
   "source": [
    "x=numerical_approx(pi, digits=3)  # ou numerical_approx(pi,10)=3,1\n",
    "print x\n",
    "y=numerical_approx(3.14, digits=3)  \n",
    "print y\n",
    "\n",
    "print x==y\n",
    "\n",
    "print x.str(2)\n",
    "print y.str(2)"
   ]
  },
  {
   "cell_type": "code",
   "execution_count": 11,
   "metadata": {},
   "outputs": [],
   "source": [
    "numerical_approx?"
   ]
  },
  {
   "cell_type": "markdown",
   "metadata": {},
   "source": [
    "# EXO 3"
   ]
  },
  {
   "cell_type": "code",
   "execution_count": 28,
   "metadata": {},
   "outputs": [
    {
     "name": "stdout",
     "output_type": "stream",
     "text": [
      "21\n",
      "63\n",
      "112\n",
      "50\n"
     ]
    }
   ],
   "source": [
    "print 23.str(11)\n",
    "print 45.str(7)\n",
    "print 32.str(5)\n",
    "print 65.str(13)"
   ]
  },
  {
   "cell_type": "code",
   "execution_count": null,
   "metadata": {},
   "outputs": [],
   "source": []
  },
  {
   "cell_type": "markdown",
   "metadata": {},
   "source": [
    "# EXO 4"
   ]
  },
  {
   "cell_type": "code",
   "execution_count": 72,
   "metadata": {},
   "outputs": [
    {
     "name": "stdout",
     "output_type": "stream",
     "text": [
      "4\n",
      "4\n",
      "1\n",
      "5\n",
      "5\n"
     ]
    },
    {
     "data": {
      "text/plain": [
       "Ring of integers modulo 6"
      ]
     },
     "execution_count": 72,
     "metadata": {},
     "output_type": "execute_result"
    }
   ],
   "source": [
    "a=5\n",
    "print (2*a)%6\n",
    "\n",
    "b=mod(5,6)\n",
    "print b*2\n",
    "\n",
    "print b+8\n",
    "\n",
    "print 1/b\n",
    "\n",
    "print b\n",
    "\n",
    "b.base_ring() # pour savoir dans quelle modulo est b"
   ]
  },
  {
   "cell_type": "markdown",
   "metadata": {},
   "source": [
    "# EXO 5"
   ]
  },
  {
   "cell_type": "code",
   "execution_count": 77,
   "metadata": {
    "scrolled": true
   },
   "outputs": [
    {
     "name": "stdout",
     "output_type": "stream",
     "text": [
      "1\n",
      "25 loops, best of 3: 16.9 ms per loop\n",
      "625 loops, best of 3: 951 µs per loop\n"
     ]
    }
   ],
   "source": [
    "n=3**(10000)\n",
    "a=n-1\n",
    "print (a**100)%n\n",
    "\n",
    "b=mod(a,n)\n",
    "\n",
    "timeit('(a**100)%n')\n",
    "timeit('b**100')"
   ]
  },
  {
   "cell_type": "code",
   "execution_count": 45,
   "metadata": {},
   "outputs": [],
   "source": [
    "timeit?"
   ]
  },
  {
   "cell_type": "markdown",
   "metadata": {},
   "source": [
    "# EXO 6"
   ]
  },
  {
   "cell_type": "code",
   "execution_count": 47,
   "metadata": {},
   "outputs": [
    {
     "name": "stdout",
     "output_type": "stream",
     "text": [
      "1\n",
      "2\n",
      "3\n",
      "5\n",
      "7\n",
      "11\n",
      "13\n",
      "17\n",
      "19\n"
     ]
    }
   ],
   "source": [
    "for i in range(0,20):\n",
    "    if (i==2 or i==3 or i==5):\n",
    "        print i\n",
    "    if (i%2==0 or i%3==0 or i%5==0):\n",
    "        pass\n",
    "    else: \n",
    "        print i"
   ]
  },
  {
   "cell_type": "code",
   "execution_count": 79,
   "metadata": {
    "scrolled": true
   },
   "outputs": [
    {
     "name": "stdout",
     "output_type": "stream",
     "text": [
      "True\n",
      "True\n",
      "625 loops, best of 3: 1.37 µs per loop\n",
      "None\n",
      "625 loops, best of 3: 1.33 µs per loop\n",
      "None\n"
     ]
    }
   ],
   "source": [
    "print is_prime(3)\n",
    "print is_pseudoprime(3)\n",
    "\n",
    "print timeit('is_prime(3)')\n",
    "print timeit('is_pseudoprime(3)') #plus rapide car fait moins de calcul ; resutat est presque sure"
   ]
  },
  {
   "cell_type": "markdown",
   "metadata": {},
   "source": [
    "# EXO 8"
   ]
  },
  {
   "cell_type": "code",
   "execution_count": 52,
   "metadata": {},
   "outputs": [
    {
     "data": {
      "text/plain": [
       "(1, -2, 31)"
      ]
     },
     "execution_count": 52,
     "metadata": {},
     "output_type": "execute_result"
    }
   ],
   "source": [
    "xgcd(77,5) #(pgcd(77,5),77*-2,5*31)"
   ]
  },
  {
   "cell_type": "markdown",
   "metadata": {},
   "source": [
    "# EXO 9"
   ]
  },
  {
   "cell_type": "code",
   "execution_count": 54,
   "metadata": {},
   "outputs": [],
   "source": [
    "crt?"
   ]
  },
  {
   "cell_type": "code",
   "execution_count": 55,
   "metadata": {},
   "outputs": [
    {
     "data": {
      "text/plain": [
       "51"
      ]
     },
     "execution_count": 55,
     "metadata": {},
     "output_type": "execute_result"
    }
   ],
   "source": [
    "crt(2,3,7,8)"
   ]
  },
  {
   "cell_type": "code",
   "execution_count": 82,
   "metadata": {},
   "outputs": [
    {
     "name": "stdout",
     "output_type": "stream",
     "text": [
      "2\n",
      "1\n",
      "1\n",
      "x0 =  10\n",
      "66\n"
     ]
    }
   ],
   "source": [
    "#verif\n",
    "a=2\n",
    "b=3\n",
    "n=7\n",
    "m=8\n",
    "x=a%m\n",
    "print x\n",
    "# x=a+km k=0\n",
    "k0=((b-a)/m)%n\n",
    "print k0\n",
    "k=k0%n\n",
    "print k\n",
    "x0=a+k0*m\n",
    "print 'x0 = ',x0\n",
    "s=1\n",
    "x=x0+s*n*m\n",
    "print x"
   ]
  },
  {
   "cell_type": "code",
   "execution_count": null,
   "metadata": {},
   "outputs": [],
   "source": []
  }
 ],
 "metadata": {
  "kernelspec": {
   "display_name": "SageMath 8.1",
   "language": "",
   "name": "sagemath"
  },
  "language_info": {
   "codemirror_mode": {
    "name": "ipython",
    "version": 2
   },
   "file_extension": ".py",
   "mimetype": "text/x-python",
   "name": "python",
   "nbconvert_exporter": "python",
   "pygments_lexer": "ipython2",
   "version": "2.7.15+"
  }
 },
 "nbformat": 4,
 "nbformat_minor": 2
}
