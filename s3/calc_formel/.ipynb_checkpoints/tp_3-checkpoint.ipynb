{
 "cells": [
  {
   "cell_type": "code",
   "execution_count": 18,
   "metadata": {},
   "outputs": [
    {
     "data": {
      "text/plain": [
       "[[x == r10, y == -r10^2 - 2]]"
      ]
     },
     "execution_count": 18,
     "metadata": {},
     "output_type": "execute_result"
    }
   ],
   "source": [
    "solve(x**2+y+3==1,x,y)"
   ]
  },
  {
   "cell_type": "code",
   "execution_count": 13,
   "metadata": {},
   "outputs": [],
   "source": [
    "solve?\n"
   ]
  },
  {
   "cell_type": "code",
   "execution_count": 42,
   "metadata": {},
   "outputs": [
    {
     "name": "stdout",
     "output_type": "stream",
     "text": [
      "[\n",
      "[x == 1, y == 1, z == -1]\n",
      "] \n",
      "[\n",
      "[x == -3*r30 + 11, y == 2*r30 - 5, z == r30]\n",
      "] \n",
      "[\n",
      "\n",
      "] \n",
      "[\n",
      "[x == -r31 + 2*r32 - 1, y == r32, z == r31]\n",
      "]\n"
     ]
    }
   ],
   "source": [
    "#exo 2\n",
    "\n",
    "y=var('y')\n",
    "z=var('z')\n",
    "\n",
    "s1=solve([x+2*y+3*z==0,-x+2*y+3*z==-2 ,3*x+4*y+z==6 ],x,y,z)\n",
    "forget()\n",
    "#r27 est un parametre car infiniter de solution\n",
    "s2=solve([x+y+z==6,x+2*y-1*z==1 ,3*x+4*y+z==13 ],x,y,z)\n",
    "forget()\n",
    "#s3 pas de solution\n",
    "s3=solve([x-1*y+2*z==0,2*x+y-1*z==2 ,-4*x-5*y+7*z==2 ],x,y,z)\n",
    "forget()\n",
    "s4=solve([x-2*y+z==-1,-2*x+4*y-2*z==2 ,3*x-6*y+3*z==-3 ],x,y,z)\n",
    "\n",
    "print s1,\"\\n\",s2,\"\\n\",s3,\"\\n\",s4"
   ]
  },
  {
   "cell_type": "code",
   "execution_count": 41,
   "metadata": {},
   "outputs": [
    {
     "name": "stdout",
     "output_type": "stream",
     "text": [
      "[\n",
      "y == 1/4*sqrt(5) + 1/4*I*sqrt(2*sqrt(5) + 10) - 1/4,\n",
      "y == -1/4*sqrt(5) + 1/4*I*sqrt(-2*sqrt(5) + 10) - 1/4,\n",
      "y == -1/4*sqrt(5) - 1/4*I*sqrt(-2*sqrt(5) + 10) - 1/4,\n",
      "y == 1/4*sqrt(5) - 1/4*I*sqrt(2*sqrt(5) + 10) - 1/4,\n",
      "y == 1,\n",
      "y == 0\n",
      "]\n",
      "y == 1/2*I*sqrt(3) - 1/2\n",
      "[\n",
      "y == 1/2*I*sqrt(3) - 1/2,\n",
      "y == -1/2*I*sqrt(3) - 1/2,\n",
      "y == 1\n",
      "]\n"
     ]
    },
    {
     "ename": "AttributeError",
     "evalue": "'sage.symbolic.expression.Expression' object has no attribute 'lsh'",
     "output_type": "error",
     "traceback": [
      "\u001b[0;31m---------------------------------------------------------------------------\u001b[0m",
      "\u001b[0;31mAttributeError\u001b[0m                            Traceback (most recent call last)",
      "\u001b[0;32m<ipython-input-41-8c1e4e58a95b>\u001b[0m in \u001b[0;36m<module>\u001b[0;34m()\u001b[0m\n\u001b[1;32m     10\u001b[0m \u001b[0;32mprint\u001b[0m \u001b[0ms\u001b[0m\u001b[0;34m\u001b[0m\u001b[0;34m\u001b[0m\u001b[0m\n\u001b[1;32m     11\u001b[0m \u001b[0;34m\u001b[0m\u001b[0m\n\u001b[0;32m---> 12\u001b[0;31m \u001b[0ms11\u001b[0m\u001b[0;34m=\u001b[0m\u001b[0ms\u001b[0m\u001b[0;34m[\u001b[0m\u001b[0mInteger\u001b[0m\u001b[0;34m(\u001b[0m\u001b[0;36m0\u001b[0m\u001b[0;34m)\u001b[0m\u001b[0;34m]\u001b[0m\u001b[0;34m.\u001b[0m\u001b[0mlsh\u001b[0m\u001b[0;34m(\u001b[0m\u001b[0;34m)\u001b[0m\u001b[0;34m\u001b[0m\u001b[0;34m\u001b[0m\u001b[0m\n\u001b[0m\u001b[1;32m     13\u001b[0m \u001b[0ms12\u001b[0m\u001b[0;34m=\u001b[0m\u001b[0ms\u001b[0m\u001b[0;34m[\u001b[0m\u001b[0mInteger\u001b[0m\u001b[0;34m(\u001b[0m\u001b[0;36m1\u001b[0m\u001b[0;34m)\u001b[0m\u001b[0;34m]\u001b[0m\u001b[0;34m.\u001b[0m\u001b[0mrsh\u001b[0m\u001b[0;34m(\u001b[0m\u001b[0;34m)\u001b[0m\u001b[0;34m\u001b[0m\u001b[0;34m\u001b[0m\u001b[0m\n\u001b[1;32m     14\u001b[0m \u001b[0ms13\u001b[0m\u001b[0;34m=\u001b[0m\u001b[0ms\u001b[0m\u001b[0;34m[\u001b[0m\u001b[0mInteger\u001b[0m\u001b[0;34m(\u001b[0m\u001b[0;36m2\u001b[0m\u001b[0;34m)\u001b[0m\u001b[0;34m]\u001b[0m\u001b[0;34m.\u001b[0m\u001b[0mrsh\u001b[0m\u001b[0;34m(\u001b[0m\u001b[0;34m)\u001b[0m\u001b[0;34m\u001b[0m\u001b[0;34m\u001b[0m\u001b[0m\n",
      "\u001b[0;32msage/structure/element.pyx\u001b[0m in \u001b[0;36msage.structure.element.Element.__getattr__ (build/cythonized/sage/structure/element.c:4303)\u001b[0;34m()\u001b[0m\n",
      "\u001b[0;32msage/structure/element.pyx\u001b[0m in \u001b[0;36msage.structure.element.Element.getattr_from_category (build/cythonized/sage/structure/element.c:4412)\u001b[0;34m()\u001b[0m\n",
      "\u001b[0;32msage/cpython/getattr.pyx\u001b[0m in \u001b[0;36msage.cpython.getattr.getattr_from_other_class (build/cythonized/sage/cpython/getattr.c:1834)\u001b[0;34m()\u001b[0m\n",
      "\u001b[0;31mAttributeError\u001b[0m: 'sage.symbolic.expression.Expression' object has no attribute 'lsh'"
     ]
    }
   ],
   "source": [
    "#exo 3\n",
    "\n",
    "print solve(y^6==y,y)\n",
    "\n",
    "var('a','b','c')\n",
    "solve(a*z^2+b*z+c*z == 0,z)\n",
    "\n",
    "s=solve(y^3==1,y)\n",
    "print s[0]\n",
    "print s\n",
    "\n",
    "s11=s[0].lsh()\n",
    "s12=s[1].rsh()\n",
    "s13=s[2].rsh()\n",
    "\n",
    "print s11,s12,s13"
   ]
  },
  {
   "cell_type": "code",
   "execution_count": null,
   "metadata": {},
   "outputs": [],
   "source": []
  }
 ],
 "metadata": {
  "kernelspec": {
   "display_name": "SageMath 8.1",
   "language": "",
   "name": "sagemath"
  },
  "language_info": {
   "codemirror_mode": {
    "name": "ipython",
    "version": 2
   },
   "file_extension": ".py",
   "mimetype": "text/x-python",
   "name": "python",
   "nbconvert_exporter": "python",
   "pygments_lexer": "ipython2",
   "version": "2.7.15+"
  }
 },
 "nbformat": 4,
 "nbformat_minor": 2
}
