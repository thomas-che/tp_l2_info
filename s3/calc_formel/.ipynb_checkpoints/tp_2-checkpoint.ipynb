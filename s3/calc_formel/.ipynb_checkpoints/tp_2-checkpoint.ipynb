{
 "cells": [
  {
   "cell_type": "code",
   "execution_count": 8,
   "metadata": {},
   "outputs": [
    {
     "name": "stdout",
     "output_type": "stream",
     "text": [
      "n=  0  Un=  2\n",
      "n=  1  Un=  3/2\n",
      "n=  2  Un=  4/3\n",
      "n=  3  Un=  5/4\n",
      "n=  4  Un=  6/5\n",
      "n=  5  Un=  7/6\n",
      "n=  6  Un=  8/7\n",
      "n=  7  Un=  9/8\n",
      "n=  8  Un=  10/9\n",
      "n=  9  Un=  11/10\n",
      "n=  10  Un=  12/11\n"
     ]
    }
   ],
   "source": [
    "# exo 1\n",
    "\n",
    "n = var ('n')\n",
    "Un(n)= 1 + 1/(n+1)\n",
    "for n in range(0,11):\n",
    "    print \"n= \",n,\" Un= \",Un(n)"
   ]
  },
  {
   "cell_type": "code",
   "execution_count": 13,
   "metadata": {},
   "outputs": [
    {
     "name": "stdout",
     "output_type": "stream",
     "text": [
      "n=  0  Un=  0\n",
      "n=  1  Un=  1/100\n",
      "n=  2  Un=  79228162514264337593543950336/625\n",
      "n=  3  Un=  515377520732011331036461129765621272702107522001/1000000\n",
      "n=  4  Un=  6277101735386680763835789423207666416102355444464034512896/390625\n",
      "n=  5  Un=  807793566946316088741610050849573099185363389551639556884765625/1024\n",
      "n=  6  Un=  159501617065446998558762272255385210092076101189686247935320304289428013056/244140625\n",
      "n=  7  Un=  3234476509624757991344647769100216810857203198904625400933895331391691459636928060001/100000000000000\n",
      "n=  8  Un=  31082702275611665134711390509176302506278509424834232340028998555822468563283335970816/152587890625\n",
      "n=  9  Un=  265613988875874769338781322035779626829233452653394495974574961739092490901302182994384699044001/1000000000000000000\n",
      "n=  10  Un=  100000000000000000000000000000000000000000000000000000000000000000000000000000000\n",
      "\n",
      " lim est : 100000000000000000000000000000000000000000000000000000000000000000000000000000000\n"
     ]
    }
   ],
   "source": [
    "#exo2\n",
    "n = var ('n')\n",
    "Un(n)= (n**100)/(100**n)\n",
    "for n in range(0,11):\n",
    "    print \"n= \",n,\" Un= \",Un(n)\n",
    "print \"\\n lim est :\",lim(Un(n),n=+oo).factor()"
   ]
  },
  {
   "cell_type": "code",
   "execution_count": 32,
   "metadata": {},
   "outputs": [
    {
     "name": "stdout",
     "output_type": "stream",
     "text": [
      "n=  0 \t T(n)=  1\n",
      "n=  1 \t T(n)=  3\n",
      "n=  2 \t T(n)=  5\n",
      "n=  3 \t T(n)=  7\n",
      "n=  4 \t T(n)=  9\n",
      "n=  5 \t T(n)=  11\n",
      "n=  6 \t T(n)=  13\n",
      "n=  7 \t T(n)=  15\n",
      "n=  8 \t T(n)=  17\n",
      "n=  9 \t T(n)=  19\n",
      "n=  10 \t T(n)=  21\n",
      "n=  11 \t T(n)=  23\n",
      "n=  12 \t T(n)=  25\n",
      "n=  13 \t T(n)=  27\n",
      "n=  14 \t T(n)=  29\n",
      "n=  15 \t T(n)=  31\n",
      "n=  16 \t T(n)=  33\n",
      "n=  17 \t T(n)=  35\n",
      "n=  18 \t T(n)=  37\n",
      "n=  19 \t T(n)=  39\n",
      "[(0, 1), (1, 3), (2, 5), (3, 7), (4, 9), (5, 11), (6, 13), (7, 15), (8, 17), (9, 19), (10, 21), (11, 23), (12, 25), (13, 27), (14, 29), (15, 31), (16, 33), (17, 35), (18, 37), (19, 39)]\n",
      "n=  0 \tT( 1 )\t T(n+1)=  3\n",
      "n=  1 \tT( 2 )\t T(n+1)=  5\n",
      "n=  2 \tT( 3 )\t T(n+1)=  7\n",
      "n=  3 \tT( 4 )\t T(n+1)=  9\n",
      "n=  4 \tT( 5 )\t T(n+1)=  11\n",
      "n=  5 \tT( 6 )\t T(n+1)=  13\n",
      "n=  6 \tT( 7 )\t T(n+1)=  15\n",
      "n=  7 \tT( 8 )\t T(n+1)=  17\n",
      "n=  8 \tT( 9 )\t T(n+1)=  19\n",
      "n=  9 \tT( 10 )\t T(n+1)=  21\n",
      "n=  10 \tT( 11 )\t T(n+1)=  23\n",
      "n=  11 \tT( 12 )\t T(n+1)=  25\n",
      "n=  12 \tT( 13 )\t T(n+1)=  27\n",
      "n=  13 \tT( 14 )\t T(n+1)=  29\n",
      "n=  14 \tT( 15 )\t T(n+1)=  31\n",
      "n=  15 \tT( 16 )\t T(n+1)=  33\n",
      "n=  16 \tT( 17 )\t T(n+1)=  35\n",
      "n=  17 \tT( 18 )\t T(n+1)=  37\n",
      "n=  18 \tT( 19 )\t T(n+1)=  39\n",
      "n=  19 \tT( 20 )\t T(n+1)=  41\n"
     ]
    }
   ],
   "source": [
    "#exo 3\n",
    "\n",
    "c1,c2=var('c1,c2')\n",
    "c1,c2=1,2\n",
    "\n",
    "T(n)=1*c1+n*c2\n",
    "\n",
    "L=[]\n",
    "for n in range (0,20):\n",
    "    L.append((n,T(n)))\n",
    "    print \"n= \",n,\"\\t T(n)= \",T(n)\n",
    "#suite croissante\n",
    "print L\n",
    "\n",
    "list_plot(L)\n",
    "'''\n",
    "T(n+1)=1*c1+(n+1)*c2\n",
    "      =1*c1+n*c2+c2\n",
    "      =T(n)+c2\n",
    "      \n",
    "'''\n",
    "#T(n+1)=t(m)\n",
    "#m=n+1\n",
    "m=var('m')\n",
    "t(m)=T(m-1)+c2\n",
    "for m in range (1,21):\n",
    "    print \"n= \",m-1,\"\\tT(\",m,\")\\t T(n+1)= \",t(m)"
   ]
  },
  {
   "cell_type": "code",
   "execution_count": 70,
   "metadata": {},
   "outputs": [
    {
     "name": "stdout",
     "output_type": "stream",
     "text": [
      "recursif  13\n",
      "iteratif  13\n",
      "625 loops, best of 3: 10.4 µs per loop\n",
      "None\n",
      "625 loops, best of 3: 1.34 µs per loop\n",
      "None\n"
     ]
    }
   ],
   "source": [
    "#exo 4\n",
    "\n",
    "#eviter methode recursive , utiliser methode iterative\n",
    "\n",
    "# timeit pour savoir le temps pris par l ordi\n",
    "\n",
    "\n",
    "#U0=fibrec(0)\n",
    "#Un=fibrec(n)\n",
    "\n",
    "#correction prof\n",
    "\n",
    "#recursif\n",
    "def fibrec (n):\n",
    "    if n==0 or n==1 :\n",
    "        return 1\n",
    "    else:\n",
    "        return fibrec(n-1)+fibrec(n-2)\n",
    "print \"recursif \",fibrec(6)\n",
    "\n",
    "#iterative\n",
    "def fibite (n):\n",
    "    if n==0 or n==1 :\n",
    "        return 1\n",
    "    else:\n",
    "        unm1=1 #un-1\n",
    "        un=1\n",
    "        for i in xrange(2,n+1):\n",
    "            temp=un\n",
    "            un = un +unm1\n",
    "            unm1=temp\n",
    "        return un\n",
    "print \"iteratif \",fibite(6)\n",
    "\n",
    "print timeit('fibrec(5)')\n",
    "print timeit('fibite(5)')\n",
    "# iteratif plus rapide"
   ]
  },
  {
   "cell_type": "code",
   "execution_count": null,
   "metadata": {},
   "outputs": [],
   "source": []
  },
  {
   "cell_type": "code",
   "execution_count": 76,
   "metadata": {},
   "outputs": [
    {
     "name": "stdout",
     "output_type": "stream",
     "text": [
      "[1, 1, 2, 3, 5, 8, 13, 21, 34, 55, 89, 144, 233, 377, 610, 987, 1597, 2584, 4181, 6765, 10946, 17711, 28657, 46368, 75025, 121393, 196418, 317811, 514229, 832040]\n"
     ]
    }
   ],
   "source": [
    "# le pb de la liste c est que sa stocke toute les valeurs alors que la prof stocke que un-1 et un-2\n",
    "\n",
    "i=var('i')\n",
    "l=[]\n",
    "for i in range(0,30):\n",
    "    if i == 0 :\n",
    "        l.append(1)\n",
    "    if i == 1 :\n",
    "        l.append(1)\n",
    "    if 2<= i:    \n",
    "        l.append(l[i-1]+l[i-2])\n",
    "print l"
   ]
  },
  {
   "cell_type": "code",
   "execution_count": null,
   "metadata": {
    "scrolled": false
   },
   "outputs": [],
   "source": []
  },
  {
   "cell_type": "code",
   "execution_count": 67,
   "metadata": {},
   "outputs": [
    {
     "name": "stdout",
     "output_type": "stream",
     "text": [
      "[(0, 1), (1, 1), (2, 2), (3, 3), (4, 5), (5, 8), (6, 13), (7, 21), (8, 34), (9, 55), (10, 89), (11, 144), (12, 233), (13, 377), (14, 610), (15, 987), (16, 1597), (17, 2584), (18, 4181), (19, 6765)]\n"
     ]
    },
    {
     "data": {
      "image/png": "[encoded data removed]",
      "text/plain": [
       "Graphics object consisting of 1 graphics primitive"
      ]
     },
     "execution_count": 67,
     "metadata": {},
     "output_type": "execute_result"
    }
   ],
   "source": [
    "# afficher la suite de fibonachi\n",
    "\n",
    "i=var('i')\n",
    "v=var('v')\n",
    "l=[]\n",
    "for i in range(0,20):\n",
    "    if i == 0 :\n",
    "        l.append((i,1))\n",
    "    if i == 1 :\n",
    "        l.append((i,1))\n",
    "    if 2<= i:\n",
    "        v=l[i-1][1]+l[i-2][1]\n",
    "        l.append((i,v))\n",
    "print l\n",
    "list_plot(l)"
   ]
  },
  {
   "cell_type": "code",
   "execution_count": 26,
   "metadata": {},
   "outputs": [
    {
     "name": "stdout",
     "output_type": "stream",
     "text": [
      "entre un nb entier :6\n",
      "[]\n",
      "[6]\n",
      "[6, 3]\n",
      "[6, 3, 10]\n",
      "[6, 3, 10, 5]\n",
      "[6, 3, 10, 5, 16]\n",
      "[6, 3, 10, 5, 16, 8]\n",
      "[6, 3, 10, 5, 16, 8, 4]\n",
      "[6, 3, 10, 5, 16, 8, 4, 2]\n",
      "[6, 3, 10, 5, 16, 8, 4, 2, 1]\n",
      "1 est trouver\n",
      "a la ==>  9  <== ieme iteration\n",
      "[6, 3, 10, 5, 16, 8, 4, 2, 1]\n"
     ]
    }
   ],
   "source": [
    "#exo5\n",
    "\n",
    "n=var('n')\n",
    "nb=var('nb')\n",
    "l=[]\n",
    "nb=int(input(\"entre un nb entier :\"))\n",
    "for n in range(0,100):\n",
    "    print l\n",
    "    if n==0:\n",
    "        l.append(nb)\n",
    "        continue\n",
    "    if l[n-1]==1:\n",
    "        print \"1 est trouver\"\n",
    "        print \"a la ==> \",n,\" <== ieme iteration\"\n",
    "        break\n",
    "    \n",
    "    if l[n-1]%2 == 0 :\n",
    "        l.append(l[n-1]/2)\n",
    "    else :\n",
    "        l.append(3*l[n-1]+1)\n",
    "print l"
   ]
  },
  {
   "cell_type": "code",
   "execution_count": 5,
   "metadata": {},
   "outputs": [
    {
     "data": {
      "text/plain": [
       "(1, 18)"
      ]
     },
     "execution_count": 5,
     "metadata": {},
     "output_type": "execute_result"
    }
   ],
   "source": [
    "# corect prof\n",
    "def conjSyracuse (u1):\n",
    "    un = u1\n",
    "    n=1\n",
    "    while un!=1 :\n",
    "        n=n+1\n",
    "        if un % 2 == 0:\n",
    "            un=un/2\n",
    "        else :\n",
    "            un=3*un+1\n",
    "    return un , n\n",
    "conjSyracuse (600)"
   ]
  },
  {
   "cell_type": "code",
   "execution_count": 37,
   "metadata": {},
   "outputs": [
    {
     "name": "stdout",
     "output_type": "stream",
     "text": [
      "entre la raison de la suite arithmetique1.5\n",
      "entre C010\n",
      "[10]\n",
      "[10, 11.5]\n",
      "[10, 11.5, 13.0]\n",
      "[10, 11.5, 13.0, 14.5]\n",
      "[10, 11.5, 13.0, 14.5, 16.0]\n",
      "[10, 11.5, 13.0, 14.5, 16.0, 17.5]\n",
      "[10, 11.5, 13.0, 14.5, 16.0, 17.5, 19.0]\n",
      "[10, 11.5, 13.0, 14.5, 16.0, 17.5, 19.0, 20.5]\n",
      "[10, 11.5, 13.0, 14.5, 16.0, 17.5, 19.0, 20.5, 22.0]\n",
      "[10, 11.5, 13.0, 14.5, 16.0, 17.5, 19.0, 20.5, 22.0, 23.5]\n"
     ]
    }
   ],
   "source": [
    "# exo 6\n",
    "\n",
    "r=var('r')\n",
    "co=var('co')\n",
    "r=float(input(\"entre la raison de la suite arithmetique\"))\n",
    "co=int(input(\"entre C0\"))\n",
    "l=[]\n",
    "for n in range (0,10):\n",
    "    if n == 0 :\n",
    "        l.append(co)\n",
    "    else:\n",
    "        l.append(l[n-1]+r)\n",
    "    print l"
   ]
  },
  {
   "cell_type": "code",
   "execution_count": 46,
   "metadata": {},
   "outputs": [
    {
     "name": "stdout",
     "output_type": "stream",
     "text": [
      "entre la raison de la suite arithmetique1.5\n",
      "entre valeur de n10000000\n",
      "entre k valeur de depart0\n",
      "entre Ck10\n",
      "valeur de C 10000000  =  15000010.0\n"
     ]
    }
   ],
   "source": [
    "r=var('r')\n",
    "n=var('n')\n",
    "k=var('k')\n",
    "ck=var('ck')\n",
    "r=float(input(\"entre la raison de la suite arithmetique\"))\n",
    "n=int(input(\"entre valeur de n\"))\n",
    "k=int(input(\"entre k valeur de depart\"))\n",
    "ck=int(input(\"entre Ck\"))\n",
    "print \"valeur de C\",n,\" = \",(ck+r*(n-k))"
   ]
  },
  {
   "cell_type": "code",
   "execution_count": 6,
   "metadata": {},
   "outputs": [
    {
     "name": "stdout",
     "output_type": "stream",
     "text": [
      "\n",
      "[2300, 4600, 9200, 18400, 36800, 73600, 147200, 294400, 588800, 1177600, 2355200, 4710400, 9420800, 18841600, 37683200] \n",
      "\n",
      "[(1971, 2300), (1973, 4600), (1975, 9200), (1977, 18400), (1979, 36800), (1981, 73600), (1983, 147200), (1985, 294400), (1987, 588800), (1989, 1177600), (1991, 2355200), (1993, 4710400), (1995, 9420800), (1997, 18841600), (1999, 37683200)]\n"
     ]
    },
    {
     "data": {
      "image/png": "[encoded data removed]",
      "text/plain": [
       "Graphics object consisting of 1 graphics primitive"
      ]
     },
     "execution_count": 6,
     "metadata": {},
     "output_type": "execute_result"
    }
   ],
   "source": [
    "#exo7\n",
    "\n",
    "q=var('q')\n",
    "to=var('to')\n",
    "q=2\n",
    "to=2300\n",
    "l=[]\n",
    "for n in range (0,29,2):\n",
    "    if n == 0:\n",
    "        l.append(to)\n",
    "    else :\n",
    "        #print \"mon n \",n-2-1*(n-1)\n",
    "        l.append(l[-1]*q)\n",
    "\n",
    "print \"\\n\",l,\"\\n\"\n",
    "    \n",
    "l1=[]\n",
    "for i in range(0,15):\n",
    "    l1.append((i*2+1971,l[i]))\n",
    "print l1\n",
    "list_plot(l1)"
   ]
  },
  {
   "cell_type": "code",
   "execution_count": 37,
   "metadata": {},
   "outputs": [
    {
     "name": "stdout",
     "output_type": "stream",
     "text": [
      "[1.30000000000000, 1.44000000000000, 1.82360000000000, 3.07551696000000] \n",
      "\n",
      "[(1.30000000000000, 0), (1.30000000000000, 1.44000000000000), (1.44000000000000, 1.44000000000000), (1.44000000000000, 1.82360000000000), (1.82360000000000, 1.82360000000000), (1.82360000000000, 3.07551696000000), (3.07551696000000, 3.07551696000000)]\n"
     ]
    },
    {
     "data": {
      "image/png": "[encoded data removed]",
      "text/plain": [
       "Graphics object consisting of 3 graphics primitives"
      ]
     },
     "execution_count": 37,
     "metadata": {},
     "output_type": "execute_result"
    }
   ],
   "source": [
    "# exo 8\n",
    "\n",
    "#U0=1,3\n",
    "#U(n+1)=abs(Un**2 -1/4)\n",
    "\n",
    "\n",
    "Uo=var('Uo')\n",
    "Uo=1.3\n",
    "l=[]\n",
    "\n",
    "f(x)=abs( x**2 -1/4 )\n",
    "\n",
    "for n in range (0,4):\n",
    "    if n == 0 :\n",
    "        l.append(Uo)\n",
    "    else:\n",
    "        l.append(abs((l[n-1])**2 - 1/4 ))\n",
    "print l,\"\\n\"\n",
    "\n",
    "lpt=[]\n",
    "for i in range (0,len(l)):\n",
    "    if i == 0:\n",
    "        lpt.append( (l[i],i) )\n",
    "    else :\n",
    "        lpt.append( (l[i-1],l[i]) )\n",
    "        lpt.append( (l[i],l[i]) )\n",
    "print lpt\n",
    "\n",
    "line(lpt)  + plot(f(x),-1,2,color=\"red\") + plot(x,-1,2,color=\"green\")"
   ]
  },
  {
   "cell_type": "code",
   "execution_count": 34,
   "metadata": {},
   "outputs": [],
   "source": [
    "line?\n"
   ]
  },
  {
   "cell_type": "code",
   "execution_count": null,
   "metadata": {},
   "outputs": [],
   "source": []
  }
 ],
 "metadata": {
  "kernelspec": {
   "display_name": "SageMath 8.1",
   "language": "",
   "name": "sagemath"
  },
  "language_info": {
   "codemirror_mode": {
    "name": "ipython",
    "version": 2
   },
   "file_extension": ".py",
   "mimetype": "text/x-python",
   "name": "python",
   "nbconvert_exporter": "python",
   "pygments_lexer": "ipython2",
   "version": "2.7.15+"
  }
 },
 "nbformat": 4,
 "nbformat_minor": 2
}
