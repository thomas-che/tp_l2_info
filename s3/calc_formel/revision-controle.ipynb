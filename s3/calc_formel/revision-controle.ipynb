{
 "cells": [
  {
   "cell_type": "code",
   "execution_count": 2,
   "metadata": {},
   "outputs": [
    {
     "data": {
      "text/plain": [
       "x |--> -Infinity"
      ]
     },
     "execution_count": 2,
     "metadata": {},
     "output_type": "execute_result"
    }
   ],
   "source": [
    "f(x)=2*x\n",
    "lim(f(x),x=+oo)\n",
    "f.limit(x=-oo)"
   ]
  },
  {
   "cell_type": "code",
   "execution_count": 3,
   "metadata": {},
   "outputs": [
    {
     "data": {
      "text/plain": [
       "2*x*cos(x^2)"
      ]
     },
     "execution_count": 3,
     "metadata": {},
     "output_type": "execute_result"
    }
   ],
   "source": [
    "f(x)=sin(x**2)\n",
    "derivative(f(x),x)"
   ]
  },
  {
   "cell_type": "code",
   "execution_count": 4,
   "metadata": {},
   "outputs": [
    {
     "data": {
      "text/plain": [
       "arctan(x)"
      ]
     },
     "execution_count": 4,
     "metadata": {},
     "output_type": "execute_result"
    }
   ],
   "source": [
    "integral(1/(1+x**2),x)"
   ]
  },
  {
   "cell_type": "code",
   "execution_count": 4,
   "metadata": {},
   "outputs": [
    {
     "name": "stdout",
     "output_type": "stream",
     "text": [
      "Infinity\n"
     ]
    }
   ],
   "source": [
    "var ('q','n')\n",
    "forget()\n",
    "assume(abs(q)>1)\n",
    "print lim(q**n,n=+oo)"
   ]
  },
  {
   "cell_type": "code",
   "execution_count": 5,
   "metadata": {},
   "outputs": [
    {
     "name": "stdout",
     "output_type": "stream",
     "text": [
      "13943237577224054960759/3099044504245996706400\n"
     ]
    }
   ],
   "source": [
    "k, b = var('k,b')\n",
    "print sum((1/k), k, 1, 50)"
   ]
  },
  {
   "cell_type": "code",
   "execution_count": 9,
   "metadata": {},
   "outputs": [
    {
     "ename": "SyntaxError",
     "evalue": "invalid syntax (<ipython-input-9-ea58a739cab4>, line 5)",
     "output_type": "error",
     "traceback": [
      "\u001b[0;36m  File \u001b[0;32m\"<ipython-input-9-ea58a739cab4>\"\u001b[0;36m, line \u001b[0;32m5\u001b[0m\n\u001b[0;31m    c1\"+\"c2\u001b[0m\n\u001b[0m        ^\u001b[0m\n\u001b[0;31mSyntaxError\u001b[0m\u001b[0;31m:\u001b[0m invalid syntax\n"
     ]
    }
   ],
   "source": [
    "f(x)=2*x+1\n",
    "g(x)=x\n",
    "c1=plot(g(x),-5,3)\n",
    "c2=plot(f(x),3,7,color=\"red\")\n",
    "c1\"+\"c2"
   ]
  },
  {
   "cell_type": "code",
   "execution_count": 8,
   "metadata": {},
   "outputs": [
    {
     "data": {
      "text/plain": [
       "[[x == (10/3), y == (-1/3)]]"
      ]
     },
     "execution_count": 8,
     "metadata": {},
     "output_type": "execute_result"
    }
   ],
   "source": [
    "y=var('y')\n",
    "solve ([x+y==3,x-2*y==4],x,y)  # pas oublier =="
   ]
  },
  {
   "cell_type": "code",
   "execution_count": 14,
   "metadata": {},
   "outputs": [
    {
     "name": "stdout",
     "output_type": "stream",
     "text": [
      "1 un =  1\n",
      "2 un =  6\n",
      "3 un =  5*sqrt(6) + 1\n",
      "4 un =  5*sqrt(5*sqrt(6) + 1) + 1\n",
      "5 un =  5*sqrt(5*sqrt(5*sqrt(6) + 1) + 1) + 1\n",
      "6 un =  5*sqrt(5*sqrt(5*sqrt(5*sqrt(6) + 1) + 1) + 1) + 1\n",
      "7 un =  5*sqrt(5*sqrt(5*sqrt(5*sqrt(5*sqrt(6) + 1) + 1) + 1) + 1) + 1\n",
      "8 un =  5*sqrt(5*sqrt(5*sqrt(5*sqrt(5*sqrt(5*sqrt(6) + 1) + 1) + 1) + 1) + 1) + 1\n",
      "9 un =  5*sqrt(5*sqrt(5*sqrt(5*sqrt(5*sqrt(5*sqrt(5*sqrt(6) + 1) + 1) + 1) + 1) + 1) + 1) + 1\n",
      "10 un =  5*sqrt(5*sqrt(5*sqrt(5*sqrt(5*sqrt(5*sqrt(5*sqrt(5*sqrt(6) + 1) + 1) + 1) + 1) + 1) + 1) + 1) + 1\n"
     ]
    }
   ],
   "source": [
    "l=[]\n",
    "for i in range(1,11):\n",
    "    if i==1:\n",
    "        l.append(1)\n",
    "    else:\n",
    "        l.append(5*sqrt(l[i-1-1])+1)\n",
    "    print i,\"un = \",l[i-1]"
   ]
  },
  {
   "cell_type": "code",
   "execution_count": 17,
   "metadata": {},
   "outputs": [],
   "source": [
    "def sommeI(n):\n",
    "    if n==1:\n",
    "        return 1\n",
    "    return sommeI(n)+sommeI(n-4)\n",
    "        "
   ]
  },
  {
   "cell_type": "code",
   "execution_count": null,
   "metadata": {},
   "outputs": [],
   "source": []
  },
  {
   "cell_type": "code",
   "execution_count": 24,
   "metadata": {},
   "outputs": [
    {
     "name": "stdout",
     "output_type": "stream",
     "text": [
      "2401\n",
      "2425.50000000000\n"
     ]
    }
   ],
   "source": [
    "som=0\n",
    "for i in range (0,99):\n",
    "    if i%2 != 0:\n",
    "        som+=i\n",
    "print som\n",
    "\n",
    "som=0\n",
    "for i in range (0,99):\n",
    "        som+=i\n",
    "print som/2.0"
   ]
  },
  {
   "cell_type": "code",
   "execution_count": 25,
   "metadata": {},
   "outputs": [
    {
     "ename": "SyntaxError",
     "evalue": "invalid syntax (<ipython-input-25-06f10e2f4b3d>, line 1)",
     "output_type": "error",
     "traceback": [
      "\u001b[0;36m  File \u001b[0;32m\"<ipython-input-25-06f10e2f4b3d>\"\u001b[0;36m, line \u001b[0;32m1\u001b[0m\n\u001b[0;31m    list_plot(l) liste de pt l=[(Integer(1),Integer(2)),(Ellipsis)Ellipsis]\u001b[0m\n\u001b[0m                     ^\u001b[0m\n\u001b[0;31mSyntaxError\u001b[0m\u001b[0;31m:\u001b[0m invalid syntax\n"
     ]
    }
   ],
   "source": [
    "list_plot(l) liste de pt l=[(1,2),(...)...]"
   ]
  },
  {
   "cell_type": "code",
   "execution_count": null,
   "metadata": {},
   "outputs": [],
   "source": []
  }
 ],
 "metadata": {
  "kernelspec": {
   "display_name": "SageMath 8.1",
   "language": "",
   "name": "sagemath"
  },
  "language_info": {
   "codemirror_mode": {
    "name": "ipython",
    "version": 2
   },
   "file_extension": ".py",
   "mimetype": "text/x-python",
   "name": "python",
   "nbconvert_exporter": "python",
   "pygments_lexer": "ipython2",
   "version": "2.7.15+"
  }
 },
 "nbformat": 4,
 "nbformat_minor": 2
}
