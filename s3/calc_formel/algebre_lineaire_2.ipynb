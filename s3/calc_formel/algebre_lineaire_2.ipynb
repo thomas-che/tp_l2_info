{
 "cells": [
  {
   "cell_type": "markdown",
   "metadata": {},
   "source": [
    "\n",
    "# EXO 1"
   ]
  },
  {
   "cell_type": "code",
   "execution_count": 3,
   "metadata": {},
   "outputs": [
    {
     "name": "stdout",
     "output_type": "stream",
     "text": [
      "[-1  2  0]\n",
      "[-2  0  3]\n",
      "[-4  6  9]\n",
      "[-7  5  8]\n",
      "\n",
      "[-1  2  0]\n",
      "[-2  0  3]\n",
      "[-4  6  9]\n",
      "[-7  5  8]\n"
     ]
    }
   ],
   "source": [
    "M=matrix([[-1,2,0],[-2,0,3],[-4,6,9],[-7,5,8]])\n",
    "print M\n",
    "\n",
    "Ma=matrix(4,3,[-1,2,0,-2,0,3,-4,6,9,-7,5,8])\n",
    "print '\\n',Ma"
   ]
  },
  {
   "cell_type": "markdown",
   "metadata": {},
   "source": [
    "# EXO 2"
   ]
  },
  {
   "cell_type": "code",
   "execution_count": 37,
   "metadata": {},
   "outputs": [
    {
     "name": "stdout",
     "output_type": "stream",
     "text": [
      "\n",
      "A+B\n",
      "[-6  4  3]\n",
      "[-1 12  7]\n",
      "[ 0 11 17]\n",
      "\n",
      "B+A\n",
      "[-6  4  3]\n",
      "[-1 12  7]\n",
      "[ 0 11 17]\n",
      "\n",
      "A-B\n",
      "[  4   0  -3]\n",
      "[ -3 -12  -1]\n",
      "[ -8   1   1]\n",
      "\n",
      "A*B\n",
      "[  7  22   5]\n",
      "[ 22  11  18]\n",
      "[ 62 109  84]\n",
      "\n",
      "B*A\n",
      "[-11   8  33]\n",
      "[-41  26  72]\n",
      "[-46  56  87]\n",
      "\n",
      "########################\n",
      "\n",
      "A*B\n",
      "[-18  45]\n",
      "[-55  28]\n",
      "\n",
      "B*A\n",
      "[  6  23  25]\n",
      "[-25  -4 -22]\n",
      "[-28  32   8]\n",
      "\n",
      "########################\n",
      "\n",
      "C.v\n",
      "(10, 8)\n",
      "\n",
      "A.v\n",
      "(6, -17, -13)\n",
      "\n",
      "########################\n",
      "[-5  2  3]\n",
      "[ 1 12  4]\n",
      "[ 4  5  8]\n",
      "\n",
      "B.e1\n",
      "(-5, 1, 4)\n",
      "\n",
      "B.e2\n",
      "(2, 12, 5)\n",
      "\n",
      "B.e3\n",
      "(3, 4, 8)\n"
     ]
    }
   ],
   "source": [
    "A=matrix([[-1,2,0],[-2,0,3],[-4,6,9]])\n",
    "B=matrix([[-5,2,3],[1,12,4],[4,5,8]])\n",
    "\n",
    "print '\\nA+B\\n',A+B # car meme taille\n",
    "print '\\nB+A\\n',B+A\n",
    "print '\\nA-B\\n',A-B\n",
    "print '\\nA*B\\n',A*B \n",
    "print '\\nB*A\\n',B*A\n",
    "\n",
    "print '\\n########################'\n",
    "\n",
    "C=matrix(2,3,[3,2,4,-2,5,3])\n",
    "D=matrix(3,2,[4,3,-7,2,-4,8])\n",
    "\n",
    "print '\\nA*B\\n',C*D\n",
    "print '\\nB*A\\n',D*C  # seul op est * ; nbColone de D = nbLigne de C ; 3x3\n",
    "\n",
    "print '\\n########################'\n",
    "\n",
    "v=vector([4,5,-3])\n",
    "print '\\nC.v\\n',C*v # 2x1\n",
    "print '\\nA.v\\n',A*v # 3x1\n",
    "\n",
    "print '\\n########################'\n",
    "\n",
    "e1=vector([1,0,0])\n",
    "e2=vector([0,1,0])\n",
    "e3=vector([0,0,1])\n",
    "\n",
    "print B\n",
    "\n",
    "print '\\nB.e1\\n',B*e1 # retourn la 1er colonne de B\n",
    "print '\\nB.e2\\n',B*e2\n",
    "print '\\nB.e3\\n',B*e3"
   ]
  },
  {
   "cell_type": "markdown",
   "metadata": {},
   "source": [
    "# EXO 4"
   ]
  },
  {
   "cell_type": "code",
   "execution_count": 39,
   "metadata": {},
   "outputs": [
    {
     "name": "stdout",
     "output_type": "stream",
     "text": [
      "-2\n",
      "6\n",
      "\n",
      "M\n",
      "[1 0 0]\n",
      "[0 1 0]\n",
      "[0 0 1]\n",
      "\n",
      "Z\n",
      "[0 0 0]\n",
      "[0 0 0]\n",
      "[0 0 0]\n"
     ]
    }
   ],
   "source": [
    "A=matrix([[-1,2,0],[-2,0,3],[-4,6,9]])\n",
    "print A[2-1][1-1]\n",
    "print A[3-1][2-1]\n",
    "\n",
    "M=identity_matrix(3) # matrice identiter\n",
    "print '\\nM\\n',M\n",
    "Z=zero_matrix(3) # matrice que de zero\n",
    "print '\\nZ\\n',Z"
   ]
  },
  {
   "cell_type": "markdown",
   "metadata": {},
   "source": [
    "# EXO 5"
   ]
  },
  {
   "cell_type": "code",
   "execution_count": 51,
   "metadata": {},
   "outputs": [
    {
     "name": "stdout",
     "output_type": "stream",
     "text": [
      "M\n",
      "[-1  2  0]\n",
      "[-2  0  3]\n",
      "[-4  6  9]\n",
      "\n",
      "transpose\n",
      "[-1 -2 -4]\n",
      "[ 2  0  6]\n",
      "[ 0  3  9]\n",
      "\n",
      "det\n",
      "30\n",
      "\n",
      "rank\n",
      "3\n",
      "\n",
      "inverse\n",
      "[ -3/5  -3/5   1/5]\n",
      "[  1/5 -3/10  1/10]\n",
      "[ -2/5 -1/15  2/15]\n"
     ]
    }
   ],
   "source": [
    "M=matrix([[-1,2,0],[-2,0,3],[-4,6,9]])\n",
    "\n",
    "print 'M\\n',M\n",
    "\n",
    "print '\\ntranspose\\n',M.transpose() # ou transpose(M) ; ligne 1 devient col 1\n",
    "print '\\ndet\\n',M.det() # ou det(M) ; determinant\n",
    "print '\\nrank\\n',M.rank() # ou rank(M) ; rang\n",
    "print '\\ninverse\\n',M^-1 # ou ~M ; inversible si la matrice est carre 3x3"
   ]
  },
  {
   "cell_type": "markdown",
   "metadata": {},
   "source": [
    "# EXO 6"
   ]
  },
  {
   "cell_type": "code",
   "execution_count": 57,
   "metadata": {},
   "outputs": [
    {
     "name": "stdout",
     "output_type": "stream",
     "text": [
      "[ -9/5]\n",
      "[47/10]\n",
      "[ 1/10]\n",
      "\n",
      "[-2]\n",
      "[ 5]\n",
      "[ 0]\n",
      "\n"
     ]
    },
    {
     "ename": "ValueError",
     "evalue": "matrix equation has no solutions",
     "output_type": "error",
     "traceback": [
      "\u001b[0;31m---------------------------------------------------------------------------\u001b[0m",
      "\u001b[0;31mValueError\u001b[0m                                Traceback (most recent call last)",
      "\u001b[0;32m/usr/lib/python2.7/dist-packages/sage/all_cmdline.pyc\u001b[0m in \u001b[0;36m<module>\u001b[0;34m()\u001b[0m\n\u001b[1;32m     14\u001b[0m \u001b[0;31m#B=matrix(3,1,[10,2,3])\u001b[0m\u001b[0;34m\u001b[0m\u001b[0;34m\u001b[0m\u001b[0;34m\u001b[0m\u001b[0m\n\u001b[1;32m     15\u001b[0m \u001b[0mB\u001b[0m\u001b[0;34m=\u001b[0m\u001b[0mvector\u001b[0m\u001b[0;34m(\u001b[0m\u001b[0;34m[\u001b[0m\u001b[0mInteger\u001b[0m\u001b[0;34m(\u001b[0m\u001b[0;36m10\u001b[0m\u001b[0;34m)\u001b[0m\u001b[0;34m,\u001b[0m\u001b[0mInteger\u001b[0m\u001b[0;34m(\u001b[0m\u001b[0;36m2\u001b[0m\u001b[0;34m)\u001b[0m\u001b[0;34m,\u001b[0m\u001b[0mInteger\u001b[0m\u001b[0;34m(\u001b[0m\u001b[0;36m3\u001b[0m\u001b[0;34m)\u001b[0m\u001b[0;34m]\u001b[0m\u001b[0;34m)\u001b[0m \u001b[0;31m# prof utilise les vecteur\u001b[0m\u001b[0;34m\u001b[0m\u001b[0;34m\u001b[0m\u001b[0m\n\u001b[0;32m---> 16\u001b[0;31m \u001b[0;32mprint\u001b[0m \u001b[0;34m'\\n'\u001b[0m\u001b[0;34m,\u001b[0m\u001b[0mA\u001b[0m\u001b[0;34m.\u001b[0m\u001b[0msolve_right\u001b[0m\u001b[0;34m(\u001b[0m\u001b[0mB\u001b[0m\u001b[0;34m)\u001b[0m \u001b[0;31m# pas de solu donc plante\u001b[0m\u001b[0;34m\u001b[0m\u001b[0;34m\u001b[0m\u001b[0m\n\u001b[0m",
      "\u001b[0;32msage/matrix/matrix2.pyx\u001b[0m in \u001b[0;36msage.matrix.matrix2.Matrix.solve_right (build/cythonized/sage/matrix/matrix2.c:7899)\u001b[0;34m()\u001b[0m\n",
      "\u001b[0;32msage/matrix/matrix2.pyx\u001b[0m in \u001b[0;36msage.matrix.matrix2.Matrix._solve_right_general (build/cythonized/sage/matrix/matrix2.c:9206)\u001b[0;34m()\u001b[0m\n",
      "\u001b[0;31mValueError\u001b[0m: matrix equation has no solutions"
     ]
    }
   ],
   "source": [
    "A=matrix(3,3,[2,3,-5,-1,0,2,1,1,1])\n",
    "B=matrix(3,1,[10,2,3])\n",
    "print A.solve_right(B) # ou A\\B ; on veut Ax=B ou x est notre resultat\n",
    "\n",
    "reset()\n",
    "\n",
    "A=matrix(3,3,[2,2,2,-1,0,2,1,1,1])\n",
    "B=matrix(3,1,[6,2,3])\n",
    "print '\\n',A.solve_right(B)\n",
    "\n",
    "reset()\n",
    "\n",
    "A=matrix(3,3,[2,2,2,-1,0,2,1,1,1])\n",
    "#B=matrix(3,1,[10,2,3])\n",
    "B=vector([10,2,3]) # prof utilise les vecteur\n",
    "print '\\n',A.solve_right(B) # pas de solu donc plante"
   ]
  },
  {
   "cell_type": "code",
   "execution_count": null,
   "metadata": {},
   "outputs": [],
   "source": []
  }
 ],
 "metadata": {
  "kernelspec": {
   "display_name": "SageMath 8.1",
   "language": "",
   "name": "sagemath"
  },
  "language_info": {
   "codemirror_mode": {
    "name": "ipython",
    "version": 2
   },
   "file_extension": ".py",
   "mimetype": "text/x-python",
   "name": "python",
   "nbconvert_exporter": "python",
   "pygments_lexer": "ipython2",
   "version": "2.7.15+"
  }
 },
 "nbformat": 4,
 "nbformat_minor": 2
}
